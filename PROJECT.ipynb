{
 "cells": [
  {
   "cell_type": "code",
   "execution_count": 1,
   "metadata": {},
   "outputs": [],
   "source": [
    "import pandas as pd\n",
    "import numpy as np\n",
    "from matplotlib import pyplot as plt\n",
    "from scipy.stats import norm\n",
    "import matplotlib.dates as dates\n",
    "import matplotlib.ticker as ticker\n",
    "import scipy.stats as stats"
   ]
  },
  {
   "cell_type": "code",
   "execution_count": 2,
   "metadata": {},
   "outputs": [
    {
     "data": {
      "text/html": [
       "<div>\n",
       "<style scoped>\n",
       "    .dataframe tbody tr th:only-of-type {\n",
       "        vertical-align: middle;\n",
       "    }\n",
       "\n",
       "    .dataframe tbody tr th {\n",
       "        vertical-align: top;\n",
       "    }\n",
       "\n",
       "    .dataframe thead th {\n",
       "        text-align: right;\n",
       "    }\n",
       "</style>\n",
       "<table border=\"1\" class=\"dataframe\">\n",
       "  <thead>\n",
       "    <tr style=\"text-align: right;\">\n",
       "      <th></th>\n",
       "      <th>RA_Report #</th>\n",
       "      <th>Year/Month</th>\n",
       "      <th>Year</th>\n",
       "      <th>PRI_Reported Brand/Product Name</th>\n",
       "      <th>Type</th>\n",
       "      <th>Brand/Product</th>\n",
       "      <th>CI_Gender</th>\n",
       "      <th>CI_Age at Adverse Event</th>\n",
       "      <th>AEC_One Row Outcomes</th>\n",
       "      <th>SYM_One Row Coded Symptoms</th>\n",
       "      <th>Outcome</th>\n",
       "      <th>Severity</th>\n",
       "    </tr>\n",
       "  </thead>\n",
       "  <tbody>\n",
       "    <tr>\n",
       "      <th>35237</th>\n",
       "      <td>214407</td>\n",
       "      <td>2017-06</td>\n",
       "      <td>2017</td>\n",
       "      <td>OCUVITE EYE + MULTI (OCUVITE MULTIVITAMIN) (TA...</td>\n",
       "      <td>OCUVITE EYE + MULTI (OCUVITE MULTIVITAMIN) (TA...</td>\n",
       "      <td>NaN</td>\n",
       "      <td>Female</td>\n",
       "      <td>92.0</td>\n",
       "      <td>OTHER SERIOUS (IMPORTANT MEDICAL EVENTS), HOSP...</td>\n",
       "      <td>DIVERTICULITIS, EYE DISORDER, HAEMORRHAGE, OCU...</td>\n",
       "      <td>HOSPITALIZATION</td>\n",
       "      <td>3</td>\n",
       "    </tr>\n",
       "    <tr>\n",
       "      <th>35238</th>\n",
       "      <td>214516</td>\n",
       "      <td>2017-06</td>\n",
       "      <td>2017</td>\n",
       "      <td>CALTRATE CALCIUM</td>\n",
       "      <td>CALCIUM</td>\n",
       "      <td>NaN</td>\n",
       "      <td>Female</td>\n",
       "      <td>66.0</td>\n",
       "      <td>HOSPITALIZATION, VISITED AN ER</td>\n",
       "      <td>SWELLING</td>\n",
       "      <td>HOSPITALIZATION</td>\n",
       "      <td>3</td>\n",
       "    </tr>\n",
       "    <tr>\n",
       "      <th>35239</th>\n",
       "      <td>214516</td>\n",
       "      <td>2017-06</td>\n",
       "      <td>2017</td>\n",
       "      <td>VITAMIN D3</td>\n",
       "      <td>VITAMIN D</td>\n",
       "      <td>NaN</td>\n",
       "      <td>Female</td>\n",
       "      <td>66.0</td>\n",
       "      <td>HOSPITALIZATION, VISITED AN ER</td>\n",
       "      <td>SWELLING</td>\n",
       "      <td>HOSPITALIZATION</td>\n",
       "      <td>3</td>\n",
       "    </tr>\n",
       "  </tbody>\n",
       "</table>\n",
       "</div>"
      ],
      "text/plain": [
       "       RA_Report # Year/Month  Year  \\\n",
       "35237       214407    2017-06  2017   \n",
       "35238       214516    2017-06  2017   \n",
       "35239       214516    2017-06  2017   \n",
       "\n",
       "                         PRI_Reported Brand/Product Name  \\\n",
       "35237  OCUVITE EYE + MULTI (OCUVITE MULTIVITAMIN) (TA...   \n",
       "35238                                   CALTRATE CALCIUM   \n",
       "35239                                         VITAMIN D3   \n",
       "\n",
       "                                                    Type Brand/Product  \\\n",
       "35237  OCUVITE EYE + MULTI (OCUVITE MULTIVITAMIN) (TA...           NaN   \n",
       "35238                                            CALCIUM           NaN   \n",
       "35239                                          VITAMIN D           NaN   \n",
       "\n",
       "      CI_Gender  CI_Age at Adverse Event  \\\n",
       "35237    Female                     92.0   \n",
       "35238    Female                     66.0   \n",
       "35239    Female                     66.0   \n",
       "\n",
       "                                    AEC_One Row Outcomes  \\\n",
       "35237  OTHER SERIOUS (IMPORTANT MEDICAL EVENTS), HOSP...   \n",
       "35238                     HOSPITALIZATION, VISITED AN ER   \n",
       "35239                     HOSPITALIZATION, VISITED AN ER   \n",
       "\n",
       "                              SYM_One Row Coded Symptoms          Outcome  \\\n",
       "35237  DIVERTICULITIS, EYE DISORDER, HAEMORRHAGE, OCU...  HOSPITALIZATION   \n",
       "35238                                           SWELLING  HOSPITALIZATION   \n",
       "35239                                           SWELLING  HOSPITALIZATION   \n",
       "\n",
       "       Severity  \n",
       "35237         3  \n",
       "35238         3  \n",
       "35239         3  "
      ]
     },
     "execution_count": 2,
     "metadata": {},
     "output_type": "execute_result"
    }
   ],
   "source": [
    "df=pd.read_csv(\"Resources/VITA-MINE.csv\")\n",
    "df.tail(3)"
   ]
  },
  {
   "cell_type": "code",
   "execution_count": null,
   "metadata": {},
   "outputs": [],
   "source": []
  },
  {
   "cell_type": "code",
   "execution_count": null,
   "metadata": {},
   "outputs": [],
   "source": []
  },
  {
   "cell_type": "code",
   "execution_count": null,
   "metadata": {},
   "outputs": [],
   "source": []
  },
  {
   "cell_type": "code",
   "execution_count": null,
   "metadata": {},
   "outputs": [],
   "source": []
  },
  {
   "cell_type": "code",
   "execution_count": null,
   "metadata": {},
   "outputs": [],
   "source": []
  },
  {
   "cell_type": "code",
   "execution_count": null,
   "metadata": {},
   "outputs": [],
   "source": []
  },
  {
   "cell_type": "code",
   "execution_count": null,
   "metadata": {},
   "outputs": [],
   "source": []
  },
  {
   "cell_type": "code",
   "execution_count": 3,
   "metadata": {},
   "outputs": [],
   "source": [
    "#### neal py code"
   ]
  },
  {
   "cell_type": "code",
   "execution_count": null,
   "metadata": {},
   "outputs": [],
   "source": []
  },
  {
   "cell_type": "code",
   "execution_count": null,
   "metadata": {},
   "outputs": [],
   "source": []
  },
  {
   "cell_type": "code",
   "execution_count": 4,
   "metadata": {},
   "outputs": [
    {
     "data": {
      "text/plain": [
       "<matplotlib.axes._subplots.AxesSubplot at 0x2da395acc50>"
      ]
     },
     "execution_count": 4,
     "metadata": {},
     "output_type": "execute_result"
    },
    {
     "data": {
      "image/png": "[encoded data removed]",
      "text/plain": [
       "<Figure size 432x288 with 1 Axes>"
      ]
     },
     "metadata": {
      "needs_background": "light"
     },
     "output_type": "display_data"
    }
   ],
   "source": [
    "b=df.groupby(\"Year\")[\"Outcome\"].count()\n",
    "b[:-1].plot()\n"
   ]
  },
  {
   "cell_type": "code",
   "execution_count": null,
   "metadata": {},
   "outputs": [],
   "source": [
    "c=df.groupby(\"Year/Month\")[\"Outcome\"].count()\n",
    "c2016=c[:-5]\n",
    "c20161=c[:-7]\n",
    "df1=pd.DataFrame(c2016)\n",
    "df1.reset_index(inplace=True)\n",
    "\n"
   ]
  },
  {
   "cell_type": "code",
   "execution_count": null,
   "metadata": {},
   "outputs": [],
   "source": [
    "fig, ax = plt.subplots(figsize=(10,6))\n",
    "ax.plot_date(df1[\"Year/Month\"], c2016, '-')\n",
    "plt.xticks(rotation=45)\n",
    "loc = ticker.MultipleLocator(base=12) # this locator puts ticks at regular intervals\n",
    "ax.xaxis.set_major_locator(loc)\n",
    "plt.title(\"DATE vs INCIDENTS\")\n",
    "plt.ylabel(\"NUMBER OF INCIDENTS\")\n",
    "plt.xlabel(\"DATE\")\n",
    "plt.tight_layout()\n",
    "plt.savefig('Image/DATEvsINCIDENTS.png')\n",
    "plt.show()"
   ]
  },
  {
   "cell_type": "code",
   "execution_count": null,
   "metadata": {},
   "outputs": [],
   "source": [
    "#from graph above, we see that the # of incident vs time follows geometric brownian motion\n",
    "#so we will use monte carlo method to simulate the # of incident each month for next 10 years\n",
    "creturn=np.log(1+c2016.pct_change())\n",
    "u=np.array([creturn.mean()])\n",
    "stdev=np.array([creturn.std()])\n",
    "t_interval=120\n",
    "iteration=100000\n",
    "drift=u-.5*stdev**2\n",
    "monthlychange=np.exp(drift+stdev*norm.ppf(np.random.rand(t_interval,iteration)))"
   ]
  },
  {
   "cell_type": "code",
   "execution_count": null,
   "metadata": {},
   "outputs": [],
   "source": [
    "Simulation=np.zeros_like(monthlychange)\n",
    "Simulation[0]=c20161[-1]\n",
    "for x in range(1,t_interval):\n",
    "    Simulation[x]=Simulation[x-1]*monthlychange[x]"
   ]
  },
  {
   "cell_type": "code",
   "execution_count": null,
   "metadata": {},
   "outputs": [],
   "source": [
    "plt.figure(figsize=(10,6))\n",
    "plt.plot(Simulation[:,:10])\n",
    "plt.title(\"FIRST 10 SIMULATIONS RESULT\")\n",
    "plt.ylabel(\"NUMBER OF INCIDENTS\")\n",
    "plt.xlabel(\"MONTH\")\n",
    "plt.savefig('Image/FIRST10_SIMULATIONS.png')\n",
    "plt.show()"
   ]
  },
  {
   "cell_type": "code",
   "execution_count": null,
   "metadata": {},
   "outputs": [],
   "source": []
  },
  {
   "cell_type": "code",
   "execution_count": null,
   "metadata": {},
   "outputs": [],
   "source": []
  },
  {
   "cell_type": "code",
   "execution_count": null,
   "metadata": {},
   "outputs": [],
   "source": [
    "a=[]\n",
    "for x in range(t_interval):\n",
    "    a.append(Simulation[x].mean())\n",
    "plt.figure(figsize=(10,6))\n",
    "plt.plot(a)\n",
    "plt.ylabel(\"NUMBER OF INCIDENTS\")\n",
    "plt.xlabel(\"MONTH\")\n",
    "plt.title(\"SIMULATIONS RESULT\")\n",
    "plt.savefig('Image/SIMULATION_RESULT.png')\n",
    "plt.show()\n"
   ]
  },
  {
   "cell_type": "code",
   "execution_count": null,
   "metadata": {},
   "outputs": [],
   "source": []
  },
  {
   "cell_type": "code",
   "execution_count": null,
   "metadata": {},
   "outputs": [],
   "source": [
    "zz=df.groupby(\"Outcome\")[\"Year\"].count()\n",
    "zz=pd.DataFrame(zz)\n",
    "zz.reset_index(inplace=True)\n",
    "zz=zz.reindex([5,3,2,1,4,0])\n",
    "plt.figure(figsize=(10,6))\n",
    "plt.bar(zz.Outcome,zz.Year)\n",
    "exp1=np.zeros(len(zz))\n",
    "exp1[1]=0.2\n",
    "plt.xticks(rotation=45)\n",
    "plt.show()\n",
    "plt.figure(figsize=(10,6))\n",
    "plt.pie(zz.Year, explode=exp1, labels=zz.Outcome,\n",
    "        autopct=\"%1.1f%%\", shadow=True, startangle=140)\n",
    "plt.show()"
   ]
  },
  {
   "cell_type": "code",
   "execution_count": null,
   "metadata": {},
   "outputs": [],
   "source": [
    "zz1=df.groupby(\"CI_Gender\")[\"Outcome\"].count()\n",
    "zz1=zz1[:2]\n",
    "plt.bar([\"Female\",\"Male\"],zz1)"
   ]
  },
  {
   "cell_type": "code",
   "execution_count": null,
   "metadata": {},
   "outputs": [],
   "source": [
    "zz2=df.groupby(\"Type\")[\"Outcome\"].count()\n",
    "zz2=zz2.sort_values(ascending=False)\n",
    "zz2=zz2[:10]\n",
    "#top 10 supplement incident\n",
    "explode=np.zeros(len(zz2))\n",
    "explode[0]=0.2\n",
    "plt.figure(figsize=(10,9))\n",
    "plt.pie(zz2.values, explode=explode, labels=zz2.index,\n",
    "        autopct=\"%1.1f%%\", shadow=True, startangle=140)\n",
    "\n",
    "plt.show()"
   ]
  },
  {
   "cell_type": "code",
   "execution_count": null,
   "metadata": {},
   "outputs": [],
   "source": [
    "dfmalesev=df[df[\"CI_Gender\"]==\"Male\"]\n",
    "dfmalesevsamp=dfmalesev[\"Severity\"]\n",
    "dffemalesev=df[df[\"CI_Gender\"]==\"Female\"]\n",
    "dffemalesevsamp=dffemalesev[\"Severity\"]\n",
    "t_stat, p_val = stats.ttest_ind(dfmalesevsamp.values, dffemalesevsamp.values, equal_var=False)\n",
    "print(f\"p-value is: {p_val}\")\n",
    "print(f\"t-test value is: {t_stat}\")\n",
    "print(\"\\nHo:μ(Men Severity)-μ(Women Severity)=0\\nHa:μ(Men Severity)-μ(Women Severity)≠0\\n\")\n",
    "print(f\"P_val = {round(p_val,5)}, thus p < 0.05\")\n",
    "print(\"Reject Null Hypothese, We conclude that there is significant difference between the mean Severity of men and women\")"
   ]
  },
  {
   "cell_type": "code",
   "execution_count": null,
   "metadata": {},
   "outputs": [],
   "source": []
  },
  {
   "cell_type": "code",
   "execution_count": null,
   "metadata": {},
   "outputs": [],
   "source": []
  }
 ],
 "metadata": {
  "kernelspec": {
   "display_name": "Python 3",
   "language": "python",
   "name": "python3"
  },
  "language_info": {
   "codemirror_mode": {
    "name": "ipython",
    "version": 3
   },
   "file_extension": ".py",
   "mimetype": "text/x-python",
   "name": "python",
   "nbconvert_exporter": "python",
   "pygments_lexer": "ipython3",
   "version": "3.7.1"
  }
 },
 "nbformat": 4,
 "nbformat_minor": 2
}
